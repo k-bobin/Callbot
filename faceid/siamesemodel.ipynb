{
 "cells": [
  {
   "cell_type": "markdown",
   "metadata": {
    "id": "1vJTVVZQ9sAP"
   },
   "source": [
    "# 1. Setup"
   ]
  },
  {
   "cell_type": "markdown",
   "metadata": {
    "id": "q6SmYj8D9sAR"
   },
   "source": [
    "## 1.1 Install Dependencies"
   ]
  },
  {
   "cell_type": "code",
   "execution_count": null,
   "metadata": {},
   "outputs": [],
   "source": []
  },
  {
   "cell_type": "markdown",
   "metadata": {
    "id": "9UaEtSN-9sAS"
   },
   "source": [
    "## 1.2 Import Dependencies"
   ]
  },
  {
   "cell_type": "code",
   "execution_count": 1,
   "metadata": {
    "id": "KKGiU5WS9sAS"
   },
   "outputs": [],
   "source": [
    "# Import standard dependencies\n",
    "import cv2\n",
    "import os\n",
    "import random\n",
    "import numpy as np\n",
    "from matplotlib import pyplot as plt"
   ]
  },
  {
   "cell_type": "code",
   "execution_count": 2,
   "metadata": {
    "id": "x-V9TDj99sAS"
   },
   "outputs": [],
   "source": [
    "# Import tensorflow dependencies - Functional API\n",
    "from tensorflow.keras.models import Model\n",
    "from tensorflow.keras.layers import Layer, Conv2D, Dense, MaxPooling2D, Input, Flatten\n",
    "import tensorflow as tf"
   ]
  },
  {
   "cell_type": "markdown",
   "metadata": {
    "id": "k3mPDpu79sAT"
   },
   "source": [
    "## 1.3 Set GPU Growth"
   ]
  },
  {
   "cell_type": "code",
   "execution_count": 3,
   "metadata": {
    "id": "v3JTCrWi9sAT"
   },
   "outputs": [],
   "source": [
    "# Avoid OOM errors by setting GPU Memory Consumption Growth\n",
    "gpus = tf.config.experimental.list_physical_devices('GPU')\n",
    "for gpu in gpus: \n",
    "    tf.config.experimental.set_memory_growth(gpu, True)"
   ]
  },
  {
   "cell_type": "code",
   "execution_count": 4,
   "metadata": {},
   "outputs": [
    {
     "data": {
      "text/plain": [
       "2"
      ]
     },
     "execution_count": 4,
     "metadata": {},
     "output_type": "execute_result"
    }
   ],
   "source": [
    "len(gpus) "
   ]
  },
  {
   "cell_type": "markdown",
   "metadata": {
    "id": "ncwr2HVO9sAT"
   },
   "source": [
    "## 1.4 Create Folder Structures"
   ]
  },
  {
   "cell_type": "code",
   "execution_count": 5,
   "metadata": {
    "id": "XKJCUrJY9sAT"
   },
   "outputs": [],
   "source": [
    "# Setup paths\n",
    "POS_PATH = os.path.join('data', 'positive')\n",
    "NEG_PATH = os.path.join('data', 'negative')\n",
    "ANC_PATH = os.path.join('data', 'anchor') "
   ]
  },
  {
   "cell_type": "code",
   "execution_count": 6,
   "metadata": {
    "id": "P8S6_9ht9sAT"
   },
   "outputs": [],
   "source": [
    "# Make the directories\n",
    "# os.makedirs(POS_PATH)\n",
    "# # os.makedirs(NEG_PATH)\n",
    "# os.makedirs(ANC_PATH)"
   ]
  },
  {
   "cell_type": "markdown",
   "metadata": {
    "id": "v4YhhzP59sAT"
   },
   "source": [
    "# 2. Collect Positives and Anchors"
   ]
  },
  {
   "cell_type": "markdown",
   "metadata": {
    "id": "l-D3-Nnh9sAU"
   },
   "source": [
    "## 2.1 Untar Labelled Faces in the Wild Dataset"
   ]
  },
  {
   "cell_type": "code",
   "execution_count": null,
   "metadata": {
    "id": "t2C9e1D39sAU"
   },
   "outputs": [],
   "source": [
    "# http://vis-www.cs.umass.edu/lfw/"
   ]
  },
  {
   "cell_type": "code",
   "execution_count": null,
   "metadata": {
    "executionInfo": {
     "elapsed": 8777,
     "status": "ok",
     "timestamp": 1680917738797,
     "user": {
      "displayName": "Bobin Kim",
      "userId": "15546628042551704372"
     },
     "user_tz": -540
    },
    "id": "hvg6VN9R9sAU"
   },
   "outputs": [],
   "source": [
    "# Uncompress Tar GZ Labelled Faces in the Wild Dataset\n",
    "# !tar -xf lfw.tgz"
   ]
  },
  {
   "cell_type": "code",
   "execution_count": null,
   "metadata": {
    "executionInfo": {
     "elapsed": 905,
     "status": "ok",
     "timestamp": 1680917749432,
     "user": {
      "displayName": "Bobin Kim",
      "userId": "15546628042551704372"
     },
     "user_tz": -540
    },
    "id": "WT7USAj-9sAU"
   },
   "outputs": [],
   "source": [
    "# Move LFW Images to the following repository data/negative\n",
    "# for directory in os.listdir('lfw'):\n",
    "#     for file in os.listdir(os.path.join('lfw', directory)):\n",
    "#         EX_PATH = os.path.join('lfw', directory, file)\n",
    "#         NEW_PATH = os.path.join(NEG_PATH, file)\n",
    "#         os.replace(EX_PATH, NEW_PATH)"
   ]
  },
  {
   "cell_type": "markdown",
   "metadata": {
    "id": "3PcosEZo9sAU"
   },
   "source": [
    "## 2.2 Collect Positive and Anchor Classes"
   ]
  },
  {
   "cell_type": "code",
   "execution_count": 7,
   "metadata": {
    "executionInfo": {
     "elapsed": 270,
     "status": "ok",
     "timestamp": 1680917771755,
     "user": {
      "displayName": "Bobin Kim",
      "userId": "15546628042551704372"
     },
     "user_tz": -540
    },
    "id": "-er_3Q3o9sAU"
   },
   "outputs": [],
   "source": [
    "# Import uuid library to generate unique image names\n",
    "import uuid"
   ]
  },
  {
   "cell_type": "code",
   "execution_count": 8,
   "metadata": {
    "colab": {
     "base_uri": "https://localhost:8080/",
     "height": 36
    },
    "executionInfo": {
     "elapsed": 268,
     "status": "ok",
     "timestamp": 1680917780265,
     "user": {
      "displayName": "Bobin Kim",
      "userId": "15546628042551704372"
     },
     "user_tz": -540
    },
    "id": "bvcJIUB69sAU",
    "outputId": "6ef3634b-1f62-48cf-8646-cc3bb07a2149"
   },
   "outputs": [
    {
     "data": {
      "text/plain": [
       "'data\\\\anchor\\\\ba67e40f-13af-11ee-a8af-6c2b59da29e4.jpg'"
      ]
     },
     "execution_count": 8,
     "metadata": {},
     "output_type": "execute_result"
    }
   ],
   "source": [
    "os.path.join(ANC_PATH, '{}.jpg'.format(uuid.uuid1()))"
   ]
  },
  {
   "cell_type": "code",
   "execution_count": 9,
   "metadata": {},
   "outputs": [],
   "source": [
    "# # Establish a connection to the webcam\n",
    "# cap = cv2.VideoCapture(0)\n",
    "\n",
    "# while cap.isOpened(): \n",
    "#     ret, frame = cap.read()\n",
    "   \n",
    "#     # Cut down frame to 250x250px\n",
    "#     frame = frame[120:120+250,200:200+250, :]\n",
    "    \n",
    "#     # Collect anchors \n",
    "#     if cv2.waitKey(1) == ord('a'):\n",
    "#         # Create the unique file path \n",
    "#         imgname = os.path.join(ANC_PATH, '{}.jpg'.format(uuid.uuid1()))\n",
    "#         # Write out anchor image\n",
    "#         cv2.imwrite(imgname, frame)\n",
    "    \n",
    "#     # Collect positives\n",
    "#     if cv2.waitKey(1) == ord('p'):\n",
    "#         # Create the unique file path \n",
    "#         imgname = os.path.join(POS_PATH, '{}.jpg'.format(uuid.uuid1()))\n",
    "#         # Write out positive imageq\n",
    "#         cv2.imwrite(imgname, frame)\n",
    "    \n",
    "#     # Show image back to screen\n",
    "#     cv2.imshow('Image Collection', frame)\n",
    "    \n",
    "#     # Breaking gracefully\n",
    "#     if cv2.waitKey(1) == ord('q'):\n",
    "#         break\n",
    "        \n",
    "# # Release the webcam\n",
    "# cap.release()\n",
    "# # Close the image show frame\n",
    "# cv2.destroyAllWindows()\n"
   ]
  },
  {
   "cell_type": "code",
   "execution_count": 10,
   "metadata": {},
   "outputs": [],
   "source": [
    "import cv2\n",
    "import os\n",
    "import uuid\n",
    "\n",
    "# Load the pre-trained face detector model\n",
    "face_cascade = cv2.CascadeClassifier(cv2.data.haarcascades + 'haarcascade_frontalface_default.xml')\n",
    "\n",
    "# Establish a connection to the webcam\n",
    "cap = cv2.VideoCapture(0)\n",
    "\n",
    "# Set the paths to store anchor and positive images\n",
    "ANC_PATH = os.path.join('data', 'anchor')  # Update with the desired anchor images path\n",
    "POS_PATH = os.path.join('data', 'positive')  # Update with the desired positive images path\n",
    "\n",
    "while cap.isOpened():\n",
    "    ret, frame = cap.read()\n",
    "\n",
    "    # Detect faces in the frame\n",
    "    gray = cv2.cvtColor(frame, cv2.COLOR_BGR2GRAY)\n",
    "    faces = face_cascade.detectMultiScale(gray, scaleFactor=1.1, minNeighbors=5, minSize=(30, 30))\n",
    "\n",
    "    if len(faces) > 0:  # If faces are detected\n",
    "        # Take the first detected face\n",
    "        (x, y, w, h) = faces[0]\n",
    "\n",
    "        # Cut down frame to the detected face region\n",
    "        face_image = frame[y:y + h, x:x + w]\n",
    "\n",
    "        # Resize the face image to 250x250 pixels\n",
    "        resized_face_image = cv2.resize(face_image, (250, 250))\n",
    "\n",
    "        # Collect anchors\n",
    "        if cv2.waitKey(1) == ord('a'):\n",
    "            # Create the unique file path\n",
    "            imgname = os.path.join(ANC_PATH, '{}.jpg'.format(uuid.uuid1()))\n",
    "            # Write out anchor image\n",
    "            cv2.imwrite(imgname, resized_face_image)\n",
    "\n",
    "        # Collect positives\n",
    "        if cv2.waitKey(1) == ord('p'):\n",
    "            # Create the unique file path\n",
    "            imgname = os.path.join(POS_PATH, '{}.jpg'.format(uuid.uuid1()))\n",
    "            # Write out positive image\n",
    "            cv2.imwrite(imgname, resized_face_image)\n",
    "\n",
    "        # Show the face image\n",
    "        cv2.imshow('Face Image', resized_face_image)\n",
    "    else:\n",
    "        # Show the original frame if no faces are detected\n",
    "        cv2.imshow('Image Collection', frame)\n",
    "\n",
    "    # Breaking gracefully\n",
    "    if cv2.waitKey(1) == ord('q'):\n",
    "        break\n",
    "\n",
    "# Release the webcam\n",
    "cap.release()\n",
    "# Close the image show frame\n",
    "cv2.destroyAllWindows()\n",
    "\n"
   ]
  },
  {
   "cell_type": "markdown",
   "metadata": {
    "id": "FL1HdI5f9sAV"
   },
   "source": [
    "# 2.x NEW - Data Augmentation"
   ]
  },
  {
   "cell_type": "code",
   "execution_count": null,
   "metadata": {
    "id": "FT_fM9nm9sAV"
   },
   "outputs": [],
   "source": [
    "# def data_aug(img):\n",
    "#     data = []\n",
    "#     for i in range(9):\n",
    "#         img = tf.image.stateless_random_brightness(img, max_delta=0.02, seed=(1,2))\n",
    "#         img = tf.image.stateless_random_contrast(img, lower=0.6, upper=1, seed=(1,3))\n",
    "#         # img = tf.image.stateless_random_crop(img, size=(20,20,3), seed=(1,2))\n",
    "#         img = tf.image.stateless_random_flip_left_right(img, seed=(np.random.randint(100),np.random.randint(100)))\n",
    "#         img = tf.image.stateless_random_jpeg_quality(img, min_jpeg_quality=90, max_jpeg_quality=100, seed=(np.random.randint(100),np.random.randint(100)))\n",
    "#         img = tf.image.stateless_random_saturation(img, lower=0.9,upper=1, seed=(np.random.randint(100),np.random.randint(100)))\n",
    "            \n",
    "#         data.append(img)\n",
    "    \n",
    "#     return data"
   ]
  },
  {
   "cell_type": "code",
   "execution_count": null,
   "metadata": {
    "id": "P1RTkfza9sAV"
   },
   "outputs": [],
   "source": [
    "# import os\n",
    "# import uuid\n",
    "\n",
    "# img_path = os.path.join(ANC_PATH, '3f7e8e66-1340-11ee-bec6-32a8967541fa.jpg')\n",
    "# img = cv2.imread(img_path)\n",
    "# augmented_images = data_aug(img)\n",
    "\n",
    "# for image in augmented_images:\n",
    "#     cv2.imwrite(os.path.join(ANC_PATH, '{}.jpg'.format(uuid.uuid1())), image.numpy())"
   ]
  },
  {
   "cell_type": "code",
   "execution_count": null,
   "metadata": {
    "id": "ZeVq-cls9sAV",
    "tags": []
   },
   "outputs": [],
   "source": [
    "# for file_name in os.listdir(os.path.join(POS_PATH)):\n",
    "#     img_path = os.path.join(POS_PATH, file_name)\n",
    "#     img = cv2.imread(img_path)\n",
    "#     augmented_images = data_aug(img) \n",
    "    \n",
    "#     for image in augmented_images:\n",
    "#         cv2.imwrite(os.path.join(POS_PATH, '{}.jpg'.format(uuid.uuid1())), image.numpy())"
   ]
  },
  {
   "cell_type": "markdown",
   "metadata": {
    "id": "1-WebNk69sAW"
   },
   "source": [
    "# 3. Load and Preprocess Images"
   ]
  },
  {
   "cell_type": "markdown",
   "metadata": {
    "id": "AiNMp8Ca9sAW"
   },
   "source": [
    "## 3.1 Get Image Directories"
   ]
  },
  {
   "cell_type": "code",
   "execution_count": 11,
   "metadata": {},
   "outputs": [],
   "source": [
    "anchor = tf.data.Dataset.list_files(os.path.join(ANC_PATH, '*.jpg')).take(700)\n",
    "positive = tf.data.Dataset.list_files(os.path.join(POS_PATH, '*.jpg')).take(700)\n",
    "negative = tf.data.Dataset.list_files(os.path.join(NEG_PATH, '*.jpg')).take(700)"
   ]
  },
  {
   "cell_type": "code",
   "execution_count": 12,
   "metadata": {
    "scrolled": true
   },
   "outputs": [
    {
     "data": {
      "text/plain": [
       "'data\\\\anchor/*.jpg'"
      ]
     },
     "execution_count": 12,
     "metadata": {},
     "output_type": "execute_result"
    }
   ],
   "source": [
    "ANC_PATH+'/*.jpg'"
   ]
  },
  {
   "cell_type": "code",
   "execution_count": 13,
   "metadata": {
    "id": "oPElhBdb9sAW"
   },
   "outputs": [],
   "source": [
    "# # # Only work in Window\n",
    "# anchor = tf.data.Dataset.list_files(ANC_PATH+'\\\\*.jpg').take(300)\n",
    "# positive = tf.data.Dataset.list_files(POS_PATH+'\\\\*.jpg').take(300)\n",
    "# negative = tf.data.Dataset.list_files(NEG_PATH+'\\\\*.jpg').take(300)"
   ]
  },
  {
   "cell_type": "code",
   "execution_count": 14,
   "metadata": {
    "id": "tWNhDUSi9sAW"
   },
   "outputs": [],
   "source": [
    "dir_test = anchor.as_numpy_iterator()"
   ]
  },
  {
   "cell_type": "code",
   "execution_count": 15,
   "metadata": {},
   "outputs": [
    {
     "data": {
      "text/plain": [
       "b'data\\\\anchor\\\\225ab240-13b0-11ee-a340-6c2b59da29e4.jpg'"
      ]
     },
     "execution_count": 15,
     "metadata": {},
     "output_type": "execute_result"
    }
   ],
   "source": [
    "dir_test.next()"
   ]
  },
  {
   "cell_type": "markdown",
   "metadata": {
    "id": "7COrbnzQ9sAW"
   },
   "source": [
    "## 3.2 Preprocessing - Scale and Resize"
   ]
  },
  {
   "cell_type": "code",
   "execution_count": 16,
   "metadata": {
    "id": "jgW5KzPQ9sAX"
   },
   "outputs": [],
   "source": [
    "def preprocess(file_path):\n",
    "    \n",
    "    # Read in image from file path\n",
    "    byte_img = tf.io.read_file(file_path, 'rb')\n",
    "    # Load in the image \n",
    "    img = tf.io.decode_jpeg(byte_img)\n",
    "    \n",
    "    # Preprocessing steps - resizing the image to be 100x100x3\n",
    "    img = tf.image.resize(img, (100,100))\n",
    "    # Scale image to be between 0 and 1 \n",
    "    img = img / 255.0\n",
    "\n",
    "    # Return image\n",
    "    return img"
   ]
  },
  {
   "cell_type": "code",
   "execution_count": 17,
   "metadata": {
    "id": "znvwYbGi9sAX",
    "scrolled": true,
    "tags": []
   },
   "outputs": [],
   "source": [
    "img = preprocess('data/anchor/0a5226bd-13a3-11ee-8ac9-6c2b59da29e4.jpg')"
   ]
  },
  {
   "cell_type": "code",
   "execution_count": 18,
   "metadata": {
    "id": "K3WAqUIt9sAX",
    "outputId": "361209a3-423e-455b-839f-ac726126e4e0"
   },
   "outputs": [
    {
     "data": {
      "text/plain": [
       "0.9313725"
      ]
     },
     "execution_count": 18,
     "metadata": {},
     "output_type": "execute_result"
    }
   ],
   "source": [
    "img.numpy().max() "
   ]
  },
  {
   "cell_type": "code",
   "execution_count": 19,
   "metadata": {},
   "outputs": [
    {
     "data": {
      "text/plain": [
       "<matplotlib.image.AxesImage at 0x2240e7ed9d0>"
      ]
     },
     "execution_count": 19,
     "metadata": {},
     "output_type": "execute_result"
    },
    {
     "data": {
      "image/png": "[encoded data removed]",
      "text/plain": [
       "<Figure size 640x480 with 1 Axes>"
      ]
     },
     "metadata": {},
     "output_type": "display_data"
    }
   ],
   "source": [
    "plt.imshow(img)"
   ]
  },
  {
   "cell_type": "code",
   "execution_count": 20,
   "metadata": {
    "id": "9PVyqSII9sAX",
    "outputId": "4ec99f40-1736-4508-b7c0-716885cf9d9e"
   },
   "outputs": [],
   "source": [
    "# dataset.map(preprocess)"
   ]
  },
  {
   "cell_type": "markdown",
   "metadata": {
    "id": "cdXnKcMD9sAX"
   },
   "source": [
    "## 3.3 Create Labelled Dataset"
   ]
  },
  {
   "cell_type": "code",
   "execution_count": 21,
   "metadata": {
    "id": "lMUgJazR9sAX"
   },
   "outputs": [],
   "source": [
    "# (anchor, positive) => 1,1,1,1,1\n",
    "# (anchor, negative) => 0,0,0,0,0"
   ]
  },
  {
   "cell_type": "code",
   "execution_count": 22,
   "metadata": {
    "id": "2Vf5NEAw9sAX"
   },
   "outputs": [],
   "source": [
    "positives = tf.data.Dataset.zip((anchor, positive, tf.data.Dataset.from_tensor_slices(tf.ones(len(anchor)))))\n",
    "negatives = tf.data.Dataset.zip((anchor, negative, tf.data.Dataset.from_tensor_slices(tf.zeros(len(anchor)))))\n",
    "data = positives.concatenate(negatives)"
   ]
  },
  {
   "cell_type": "code",
   "execution_count": 23,
   "metadata": {
    "id": "bIRMxfNj9sAX"
   },
   "outputs": [],
   "source": [
    "samples = data.as_numpy_iterator()"
   ]
  },
  {
   "cell_type": "code",
   "execution_count": 24,
   "metadata": {
    "id": "dLAewebP9sAX"
   },
   "outputs": [
    {
     "data": {
      "text/plain": [
       "(b'data\\\\anchor\\\\214dd5c0-13a3-11ee-a9ce-6c2b59da29e4.jpg',\n",
       " b'data\\\\positive\\\\d5c9ad5a-13af-11ee-bfb8-6c2b59da29e4.jpg',\n",
       " 1.0)"
      ]
     },
     "execution_count": 24,
     "metadata": {},
     "output_type": "execute_result"
    }
   ],
   "source": [
    "exampple = samples.next()\n",
    "exampple"
   ]
  },
  {
   "cell_type": "markdown",
   "metadata": {
    "id": "eJSFR8ib9sAY"
   },
   "source": [
    "## 3.4 Build Train and Test Partition"
   ]
  },
  {
   "cell_type": "code",
   "execution_count": 25,
   "metadata": {
    "id": "gjNajrBK9sAY"
   },
   "outputs": [],
   "source": [
    "def preprocess_twin(input_img, validation_img, label):\n",
    "    return(preprocess(input_img), preprocess(validation_img), label)"
   ]
  },
  {
   "cell_type": "code",
   "execution_count": 26,
   "metadata": {
    "id": "0kKBQaaE9sAY"
   },
   "outputs": [],
   "source": [
    "res = preprocess_twin(*exampple)"
   ]
  },
  {
   "cell_type": "code",
   "execution_count": 27,
   "metadata": {},
   "outputs": [
    {
     "data": {
      "text/plain": [
       "<matplotlib.image.AxesImage at 0x2240edbc460>"
      ]
     },
     "execution_count": 27,
     "metadata": {},
     "output_type": "execute_result"
    },
    {
     "data": {
      "image/png": "[encoded data removed]",
      "text/plain": [
       "<Figure size 640x480 with 1 Axes>"
      ]
     },
     "metadata": {},
     "output_type": "display_data"
    }
   ],
   "source": [
    "plt.imshow(res[1])   #[0]: anchor [1]:positive"
   ]
  },
  {
   "cell_type": "code",
   "execution_count": 28,
   "metadata": {
    "id": "qTTVMJo29sAY",
    "outputId": "ab380a46-89fa-4252-d417-3eaea0f9d2dd"
   },
   "outputs": [
    {
     "data": {
      "text/plain": [
       "<matplotlib.image.AxesImage at 0x2241422e160>"
      ]
     },
     "execution_count": 28,
     "metadata": {},
     "output_type": "execute_result"
    },
    {
     "data": {
      "image/png": "[encoded data removed]",
      "text/plain": [
       "<Figure size 640x480 with 1 Axes>"
      ]
     },
     "metadata": {},
     "output_type": "display_data"
    }
   ],
   "source": [
    "plt.imshow(res[1])"
   ]
  },
  {
   "cell_type": "code",
   "execution_count": 29,
   "metadata": {
    "id": "ZY-cEV5P9sAY",
    "outputId": "94647f3d-50ed-4408-9d2a-5199bbf745be"
   },
   "outputs": [
    {
     "data": {
      "text/plain": [
       "1.0"
      ]
     },
     "execution_count": 29,
     "metadata": {},
     "output_type": "execute_result"
    }
   ],
   "source": [
    "res[2]"
   ]
  },
  {
   "cell_type": "code",
   "execution_count": 30,
   "metadata": {
    "id": "As7fTv4R9sAY"
   },
   "outputs": [],
   "source": [
    "# Build dataloader pipeline\n",
    "data = data.map(preprocess_twin)\n",
    "data = data.cache()\n",
    "data = data.shuffle(buffer_size=1024)"
   ]
  },
  {
   "cell_type": "code",
   "execution_count": 31,
   "metadata": {
    "id": "UGFsfEmQ9sAY"
   },
   "outputs": [],
   "source": [
    "# Training partition\n",
    "train_data = data.take(round(len(data)*.7))\n",
    "train_data = train_data.batch(16)\n",
    "train_data = train_data.prefetch(8)"
   ]
  },
  {
   "cell_type": "code",
   "execution_count": 32,
   "metadata": {
    "id": "oE1bEk7C9sAY"
   },
   "outputs": [],
   "source": [
    "# Testing partition\n",
    "test_data = data.skip(round(len(data)*.7))\n",
    "test_data = test_data.take(round(len(data)*.3))\n",
    "test_data = test_data.batch(16)\n",
    "test_data = test_data.prefetch(8)"
   ]
  },
  {
   "cell_type": "code",
   "execution_count": 33,
   "metadata": {},
   "outputs": [
    {
     "data": {
      "text/plain": [
       "<ShuffleDataset element_spec=(TensorSpec(shape=(100, 100, None), dtype=tf.float32, name=None), TensorSpec(shape=(100, 100, None), dtype=tf.float32, name=None), TensorSpec(shape=(), dtype=tf.float32, name=None))>"
      ]
     },
     "execution_count": 33,
     "metadata": {},
     "output_type": "execute_result"
    }
   ],
   "source": [
    "data"
   ]
  },
  {
   "cell_type": "code",
   "execution_count": 34,
   "metadata": {},
   "outputs": [],
   "source": [
    "train_samples = train_data.as_numpy_iterator()"
   ]
  },
  {
   "cell_type": "code",
   "execution_count": 35,
   "metadata": {},
   "outputs": [],
   "source": [
    "train_sample = train_samples.next()"
   ]
  },
  {
   "cell_type": "code",
   "execution_count": 36,
   "metadata": {},
   "outputs": [
    {
     "data": {
      "text/plain": [
       "16"
      ]
     },
     "execution_count": 36,
     "metadata": {},
     "output_type": "execute_result"
    }
   ],
   "source": [
    "len(train_sample[0])"
   ]
  },
  {
   "cell_type": "markdown",
   "metadata": {
    "id": "GXuOyjW79sAY"
   },
   "source": [
    "# 4. Model Engineering"
   ]
  },
  {
   "cell_type": "markdown",
   "metadata": {
    "id": "6lj8Tooa9sAZ"
   },
   "source": [
    "## 4.1 Build Embedding Layer"
   ]
  },
  {
   "cell_type": "code",
   "execution_count": 37,
   "metadata": {
    "id": "8gfRJUic9sAZ"
   },
   "outputs": [
    {
     "data": {
      "text/plain": [
       "<KerasTensor: shape=(None, 100, 100, 3) dtype=float32 (created by layer 'input_image')>"
      ]
     },
     "execution_count": 37,
     "metadata": {},
     "output_type": "execute_result"
    }
   ],
   "source": [
    "inp = Input(shape=(100,100, 3), name='input_image')\n",
    "inp"
   ]
  },
  {
   "cell_type": "code",
   "execution_count": 38,
   "metadata": {
    "id": "OJrziwJ09sAZ"
   },
   "outputs": [
    {
     "data": {
      "text/plain": [
       "<KerasTensor: shape=(None, 91, 91, 64) dtype=float32 (created by layer 'conv2d')>"
      ]
     },
     "execution_count": 38,
     "metadata": {},
     "output_type": "execute_result"
    }
   ],
   "source": [
    "c1 = Conv2D(64, (10,10), activation='relu')(inp)\n",
    "c1"
   ]
  },
  {
   "cell_type": "code",
   "execution_count": 39,
   "metadata": {
    "id": "cG7zVeY99sAZ"
   },
   "outputs": [
    {
     "data": {
      "text/plain": [
       "<KerasTensor: shape=(None, 46, 46, 64) dtype=float32 (created by layer 'max_pooling2d')>"
      ]
     },
     "execution_count": 39,
     "metadata": {},
     "output_type": "execute_result"
    }
   ],
   "source": [
    "m1 = MaxPooling2D(64, (2,2), padding='same')(c1)\n",
    "m1"
   ]
  },
  {
   "cell_type": "code",
   "execution_count": 40,
   "metadata": {
    "id": "J4Nl7Hvv9sAZ"
   },
   "outputs": [
    {
     "data": {
      "text/plain": [
       "<KerasTensor: shape=(None, 20, 20, 128) dtype=float32 (created by layer 'max_pooling2d_1')>"
      ]
     },
     "execution_count": 40,
     "metadata": {},
     "output_type": "execute_result"
    }
   ],
   "source": [
    "c2 = Conv2D(128, (7,7), activation='relu')(m1)\n",
    "m2 = MaxPooling2D(64, (2,2), padding='same')(c2)\n",
    "m2"
   ]
  },
  {
   "cell_type": "code",
   "execution_count": 41,
   "metadata": {
    "id": "Zfa1PKKr9sAZ"
   },
   "outputs": [],
   "source": [
    "c3 = Conv2D(128, (4,4), activation='relu')(m2)\n",
    "m3 = MaxPooling2D(64, (2,2), padding='same')(c3)"
   ]
  },
  {
   "cell_type": "code",
   "execution_count": 42,
   "metadata": {
    "id": "M5q77lGG9sAZ"
   },
   "outputs": [],
   "source": [
    "c4 = Conv2D(256, (4,4), activation='relu')(m3)\n",
    "f1 = Flatten()(c4)\n",
    "d1 = Dense(4096, activation='sigmoid')(f1)"
   ]
  },
  {
   "cell_type": "code",
   "execution_count": 43,
   "metadata": {},
   "outputs": [
    {
     "data": {
      "text/plain": [
       "<KerasTensor: shape=(None, 4096) dtype=float32 (created by layer 'dense')>"
      ]
     },
     "execution_count": 43,
     "metadata": {},
     "output_type": "execute_result"
    }
   ],
   "source": [
    "d1"
   ]
  },
  {
   "cell_type": "code",
   "execution_count": 44,
   "metadata": {
    "id": "hyHAFUyj9sAZ"
   },
   "outputs": [],
   "source": [
    "mod = Model(inputs=[inp], outputs=[d1], name='embedding')"
   ]
  },
  {
   "cell_type": "code",
   "execution_count": 45,
   "metadata": {
    "id": "JxA0PL1u9sAZ",
    "outputId": "73a31097-df8f-4f22-de26-872a8da24d97",
    "scrolled": true
   },
   "outputs": [
    {
     "name": "stdout",
     "output_type": "stream",
     "text": [
      "Model: \"embedding\"\n",
      "_________________________________________________________________\n",
      " Layer (type)                Output Shape              Param #   \n",
      "=================================================================\n",
      " input_image (InputLayer)    [(None, 100, 100, 3)]     0         \n",
      "                                                                 \n",
      " conv2d (Conv2D)             (None, 91, 91, 64)        19264     \n",
      "                                                                 \n",
      " max_pooling2d (MaxPooling2D  (None, 46, 46, 64)       0         \n",
      " )                                                               \n",
      "                                                                 \n",
      " conv2d_1 (Conv2D)           (None, 40, 40, 128)       401536    \n",
      "                                                                 \n",
      " max_pooling2d_1 (MaxPooling  (None, 20, 20, 128)      0         \n",
      " 2D)                                                             \n",
      "                                                                 \n",
      " conv2d_2 (Conv2D)           (None, 17, 17, 128)       262272    \n",
      "                                                                 \n",
      " max_pooling2d_2 (MaxPooling  (None, 9, 9, 128)        0         \n",
      " 2D)                                                             \n",
      "                                                                 \n",
      " conv2d_3 (Conv2D)           (None, 6, 6, 256)         524544    \n",
      "                                                                 \n",
      " flatten (Flatten)           (None, 9216)              0         \n",
      "                                                                 \n",
      " dense (Dense)               (None, 4096)              37752832  \n",
      "                                                                 \n",
      "=================================================================\n",
      "Total params: 38,960,448\n",
      "Trainable params: 38,960,448\n",
      "Non-trainable params: 0\n",
      "_________________________________________________________________\n"
     ]
    }
   ],
   "source": [
    "mod.summary()"
   ]
  },
  {
   "cell_type": "code",
   "execution_count": 46,
   "metadata": {
    "id": "bqdQnJND9sAZ"
   },
   "outputs": [],
   "source": [
    "def make_embedding(): \n",
    "    inp = Input(shape=(100,100,3), name='input_image')\n",
    "    \n",
    "    # First block\n",
    "    c1 = Conv2D(64, (10,10), activation='relu')(inp)\n",
    "    m1 = MaxPooling2D(64, (2,2), padding='same')(c1)\n",
    "    \n",
    "    # Second block\n",
    "    c2 = Conv2D(128, (7,7), activation='relu')(m1)\n",
    "    m2 = MaxPooling2D(64, (2,2), padding='same')(c2)\n",
    "    \n",
    "    # Third block \n",
    "    c3 = Conv2D(128, (4,4), activation='relu')(m2)\n",
    "    m3 = MaxPooling2D(64, (2,2), padding='same')(c3)\n",
    "    \n",
    "    # Final embedding block\n",
    "    c4 = Conv2D(256, (4,4), activation='relu')(m3)\n",
    "    f1 = Flatten()(c4)\n",
    "    d1 = Dense(4096, activation='sigmoid')(f1)\n",
    "    \n",
    "    \n",
    "    return Model(inputs=[inp], outputs=[d1], name='embedding')"
   ]
  },
  {
   "cell_type": "code",
   "execution_count": 47,
   "metadata": {},
   "outputs": [],
   "source": [
    "embedding = make_embedding()"
   ]
  },
  {
   "cell_type": "code",
   "execution_count": 48,
   "metadata": {},
   "outputs": [
    {
     "name": "stdout",
     "output_type": "stream",
     "text": [
      "Model: \"embedding\"\n",
      "_________________________________________________________________\n",
      " Layer (type)                Output Shape              Param #   \n",
      "=================================================================\n",
      " input_image (InputLayer)    [(None, 100, 100, 3)]     0         \n",
      "                                                                 \n",
      " conv2d_4 (Conv2D)           (None, 91, 91, 64)        19264     \n",
      "                                                                 \n",
      " max_pooling2d_3 (MaxPooling  (None, 46, 46, 64)       0         \n",
      " 2D)                                                             \n",
      "                                                                 \n",
      " conv2d_5 (Conv2D)           (None, 40, 40, 128)       401536    \n",
      "                                                                 \n",
      " max_pooling2d_4 (MaxPooling  (None, 20, 20, 128)      0         \n",
      " 2D)                                                             \n",
      "                                                                 \n",
      " conv2d_6 (Conv2D)           (None, 17, 17, 128)       262272    \n",
      "                                                                 \n",
      " max_pooling2d_5 (MaxPooling  (None, 9, 9, 128)        0         \n",
      " 2D)                                                             \n",
      "                                                                 \n",
      " conv2d_7 (Conv2D)           (None, 6, 6, 256)         524544    \n",
      "                                                                 \n",
      " flatten_1 (Flatten)         (None, 9216)              0         \n",
      "                                                                 \n",
      " dense_1 (Dense)             (None, 4096)              37752832  \n",
      "                                                                 \n",
      "=================================================================\n",
      "Total params: 38,960,448\n",
      "Trainable params: 38,960,448\n",
      "Non-trainable params: 0\n",
      "_________________________________________________________________\n"
     ]
    }
   ],
   "source": [
    "embedding.summary()"
   ]
  },
  {
   "cell_type": "markdown",
   "metadata": {
    "id": "WJJHF_gB9sAa"
   },
   "source": [
    "## 4.2 Build Distance Layer"
   ]
  },
  {
   "cell_type": "code",
   "execution_count": 49,
   "metadata": {
    "id": "BqRqeoX69sAa"
   },
   "outputs": [],
   "source": [
    "# Siamese L1 Distance class\n",
    "class L1Dist(Layer):\n",
    "    \n",
    "    # Init method - inheritance\n",
    "    def __init__(self, **kwargs):\n",
    "        super().__init__()\n",
    "       \n",
    "    # Magic happens here - similarity calculation\n",
    "    def call(self, input_embedding, validation_embedding):\n",
    "        return tf.math.abs(input_embedding - validation_embedding)"
   ]
  },
  {
   "cell_type": "code",
   "execution_count": 50,
   "metadata": {
    "id": "XsrJTzft9sAa"
   },
   "outputs": [],
   "source": [
    "l1 = L1Dist()"
   ]
  },
  {
   "cell_type": "markdown",
   "metadata": {
    "id": "Qg2xoGPD9sAa"
   },
   "source": [
    "## 4.3 Make Siamese Model"
   ]
  },
  {
   "cell_type": "code",
   "execution_count": 51,
   "metadata": {
    "id": "4890MKej9sAa"
   },
   "outputs": [],
   "source": [
    "input_image = Input(name='input_img', shape=(100,100,3))\n",
    "validation_image = Input(name='validation_img', shape=(100,100,3))"
   ]
  },
  {
   "cell_type": "code",
   "execution_count": 52,
   "metadata": {
    "id": "qxLyln5K9sAa"
   },
   "outputs": [],
   "source": [
    "inp_embedding = embedding(input_image)\n",
    "val_embedding = embedding(validation_image)"
   ]
  },
  {
   "cell_type": "code",
   "execution_count": 53,
   "metadata": {
    "id": "TR9dXFWL9sAa"
   },
   "outputs": [],
   "source": [
    "siamese_layer = L1Dist()"
   ]
  },
  {
   "cell_type": "code",
   "execution_count": 54,
   "metadata": {
    "id": "SsPYd4Hg9sAa"
   },
   "outputs": [],
   "source": [
    "distances = siamese_layer(inp_embedding, val_embedding)"
   ]
  },
  {
   "cell_type": "code",
   "execution_count": 55,
   "metadata": {
    "id": "rJtVvgod9sAa"
   },
   "outputs": [],
   "source": [
    "classifier = Dense(1, activation='sigmoid')(distances)"
   ]
  },
  {
   "cell_type": "code",
   "execution_count": 56,
   "metadata": {
    "id": "xKv3Fy-B9sAa",
    "outputId": "badda2ac-6006-43b5-e7ef-c9cf9fba530a"
   },
   "outputs": [
    {
     "data": {
      "text/plain": [
       "<KerasTensor: shape=(None, 1) dtype=float32 (created by layer 'dense_2')>"
      ]
     },
     "execution_count": 56,
     "metadata": {},
     "output_type": "execute_result"
    }
   ],
   "source": [
    "classifier"
   ]
  },
  {
   "cell_type": "code",
   "execution_count": 57,
   "metadata": {
    "id": "-hxzEdMh9sAb"
   },
   "outputs": [],
   "source": [
    "siamese_network = Model(inputs=[input_image, validation_image], outputs=classifier, name='SiameseNetwork')"
   ]
  },
  {
   "cell_type": "code",
   "execution_count": 58,
   "metadata": {
    "id": "PSJyN_GI9sAb",
    "outputId": "68bb3875-69a6-4bf2-8c2b-a1ef3921675e"
   },
   "outputs": [
    {
     "name": "stdout",
     "output_type": "stream",
     "text": [
      "Model: \"SiameseNetwork\"\n",
      "__________________________________________________________________________________________________\n",
      " Layer (type)                   Output Shape         Param #     Connected to                     \n",
      "==================================================================================================\n",
      " input_img (InputLayer)         [(None, 100, 100, 3  0           []                               \n",
      "                                )]                                                                \n",
      "                                                                                                  \n",
      " validation_img (InputLayer)    [(None, 100, 100, 3  0           []                               \n",
      "                                )]                                                                \n",
      "                                                                                                  \n",
      " embedding (Functional)         (None, 4096)         38960448    ['input_img[0][0]',              \n",
      "                                                                  'validation_img[0][0]']         \n",
      "                                                                                                  \n",
      " l1_dist_1 (L1Dist)             (None, 4096)         0           ['embedding[0][0]',              \n",
      "                                                                  'embedding[1][0]']              \n",
      "                                                                                                  \n",
      " dense_2 (Dense)                (None, 1)            4097        ['l1_dist_1[0][0]']              \n",
      "                                                                                                  \n",
      "==================================================================================================\n",
      "Total params: 38,964,545\n",
      "Trainable params: 38,964,545\n",
      "Non-trainable params: 0\n",
      "__________________________________________________________________________________________________\n"
     ]
    }
   ],
   "source": [
    "siamese_network.summary()"
   ]
  },
  {
   "cell_type": "code",
   "execution_count": 59,
   "metadata": {
    "id": "EOWpx5ow9sAb"
   },
   "outputs": [],
   "source": [
    "def make_siamese_model(): \n",
    "    \n",
    "    # Anchor image input in the network\n",
    "    input_image = Input(name='input_img', shape=(100,100,3))\n",
    "    \n",
    "    # Validation image in the network \n",
    "    validation_image = Input(name='validation_img', shape=(100,100,3))\n",
    "    \n",
    "    # Combine siamese distance components\n",
    "    siamese_layer = L1Dist()\n",
    "    siamese_layer._name = 'distance'\n",
    "    distances = siamese_layer(embedding(input_image), embedding(validation_image))\n",
    "    \n",
    "    # Classification layer \n",
    "    classifier = Dense(1, activation='sigmoid')(distances)\n",
    "    \n",
    "    return Model(inputs=[input_image, validation_image], outputs=classifier, name='SiameseNetwork')"
   ]
  },
  {
   "cell_type": "code",
   "execution_count": 60,
   "metadata": {
    "id": "CWxLSypq9sAb"
   },
   "outputs": [],
   "source": [
    "siamese_model = make_siamese_model()"
   ]
  },
  {
   "cell_type": "code",
   "execution_count": 61,
   "metadata": {
    "id": "zS_x6kUo9sAb",
    "outputId": "3adb8db5-33f9-4868-cbfe-c95ced1d3bf5",
    "tags": []
   },
   "outputs": [
    {
     "name": "stdout",
     "output_type": "stream",
     "text": [
      "Model: \"SiameseNetwork\"\n",
      "__________________________________________________________________________________________________\n",
      " Layer (type)                   Output Shape         Param #     Connected to                     \n",
      "==================================================================================================\n",
      " input_img (InputLayer)         [(None, 100, 100, 3  0           []                               \n",
      "                                )]                                                                \n",
      "                                                                                                  \n",
      " validation_img (InputLayer)    [(None, 100, 100, 3  0           []                               \n",
      "                                )]                                                                \n",
      "                                                                                                  \n",
      " embedding (Functional)         (None, 4096)         38960448    ['input_img[0][0]',              \n",
      "                                                                  'validation_img[0][0]']         \n",
      "                                                                                                  \n",
      " distance (L1Dist)              (None, 4096)         0           ['embedding[2][0]',              \n",
      "                                                                  'embedding[3][0]']              \n",
      "                                                                                                  \n",
      " dense_3 (Dense)                (None, 1)            4097        ['distance[0][0]']               \n",
      "                                                                                                  \n",
      "==================================================================================================\n",
      "Total params: 38,964,545\n",
      "Trainable params: 38,964,545\n",
      "Non-trainable params: 0\n",
      "__________________________________________________________________________________________________\n"
     ]
    }
   ],
   "source": [
    "siamese_model.summary()"
   ]
  },
  {
   "cell_type": "markdown",
   "metadata": {
    "id": "F1kXg0Ph9sAb"
   },
   "source": [
    "# 5. Training"
   ]
  },
  {
   "cell_type": "markdown",
   "metadata": {
    "id": "svd6iHJG9sAb"
   },
   "source": [
    "## 5.1 Setup Loss and Optimizer"
   ]
  },
  {
   "cell_type": "code",
   "execution_count": 62,
   "metadata": {
    "id": "jY5MUHQd9sAb"
   },
   "outputs": [],
   "source": [
    "binary_cross_loss = tf.losses.BinaryCrossentropy()"
   ]
  },
  {
   "cell_type": "code",
   "execution_count": 63,
   "metadata": {
    "id": "Lkmj6jOX9sAb"
   },
   "outputs": [],
   "source": [
    "opt = tf.keras.optimizers.Adam(1e-4) # 0.0001"
   ]
  },
  {
   "cell_type": "markdown",
   "metadata": {
    "id": "K3BmJTtD9sAc"
   },
   "source": [
    "## 5.2 Establish Checkpoints"
   ]
  },
  {
   "cell_type": "code",
   "execution_count": 64,
   "metadata": {
    "id": "pnXmceT89sAc"
   },
   "outputs": [],
   "source": [
    "checkpoint_dir = './training_checkpoints'\n",
    "checkpoint_prefix = os.path.join(checkpoint_dir, 'ckpt')\n",
    "checkpoint = tf.train.Checkpoint(opt=opt, siamese_model=siamese_model)"
   ]
  },
  {
   "cell_type": "markdown",
   "metadata": {
    "id": "jluH3UfR9sAc"
   },
   "source": [
    "## 5.3 Build Train Step Function"
   ]
  },
  {
   "cell_type": "code",
   "execution_count": 65,
   "metadata": {
    "id": "e-rZNEAn9sAc"
   },
   "outputs": [],
   "source": [
    "test_batch = train_data.as_numpy_iterator()"
   ]
  },
  {
   "cell_type": "code",
   "execution_count": 66,
   "metadata": {
    "id": "Pzq2pKNn9sAc"
   },
   "outputs": [],
   "source": [
    "batch_1 = test_batch.next()"
   ]
  },
  {
   "cell_type": "code",
   "execution_count": 67,
   "metadata": {
    "id": "32-oQwcY9sAc"
   },
   "outputs": [],
   "source": [
    "X = batch_1[:2]"
   ]
  },
  {
   "cell_type": "code",
   "execution_count": 68,
   "metadata": {
    "id": "CudurJGY9sAc"
   },
   "outputs": [],
   "source": [
    "y = batch_1[2]"
   ]
  },
  {
   "cell_type": "code",
   "execution_count": 69,
   "metadata": {
    "id": "fwkB9jeL9sAc",
    "outputId": "a744f0c2-3d1d-4bf1-b2ab-f9e0952d6b09"
   },
   "outputs": [
    {
     "data": {
      "text/plain": [
       "array([0., 0., 1., 1., 0., 1., 1., 0., 0., 0., 1., 1., 1., 1., 0., 1.],\n",
       "      dtype=float32)"
      ]
     },
     "execution_count": 69,
     "metadata": {},
     "output_type": "execute_result"
    }
   ],
   "source": [
    "y"
   ]
  },
  {
   "cell_type": "code",
   "execution_count": 70,
   "metadata": {
    "id": "r2YmtdcQ9sAc",
    "tags": []
   },
   "outputs": [],
   "source": [
    "@tf.function\n",
    "def train_step(batch):\n",
    "    \n",
    "    # Record all of our operations \n",
    "    with tf.GradientTape() as tape:     \n",
    "        # Get anchor and positive/negative image\n",
    "        X = batch[:2]\n",
    "        # Get label\n",
    "        y = batch[2]\n",
    "        \n",
    "        # Forward pass\n",
    "        yhat = siamese_model(X, training=True)\n",
    "        # Calculate loss\n",
    "        loss = binary_cross_loss(y, yhat)\n",
    "    print(loss)\n",
    "        \n",
    "    # Calculate gradients\n",
    "    grad = tape.gradient(loss, siamese_model.trainable_variables)\n",
    "    \n",
    "    # Calculate updated weights and apply to siamese model\n",
    "    opt.apply_gradients(zip(grad, siamese_model.trainable_variables))\n",
    "        \n",
    "    # Return loss\n",
    "    return loss"
   ]
  },
  {
   "cell_type": "markdown",
   "metadata": {
    "id": "srMM5scF9sAc"
   },
   "source": [
    "## 5.4 Build Training Loop"
   ]
  },
  {
   "cell_type": "code",
   "execution_count": 71,
   "metadata": {
    "id": "d0U59Ufu9sAd"
   },
   "outputs": [],
   "source": [
    "def train(data, EPOCHS):\n",
    "    # Loop through epochs\n",
    "    for epoch in range(1, EPOCHS+1):\n",
    "        print('\\n Epoch {}/{}'.format(epoch, EPOCHS))\n",
    "        progbar = tf.keras.utils.Progbar(len(train_data))\n",
    "        \n",
    "#         # Creating a metric object \n",
    "#         r = Recall()\n",
    "#         p = Precision()\n",
    "        \n",
    "        # Loop through each batch\n",
    "        for idx, batch in enumerate(train_data):\n",
    "            # Run train step here\n",
    "            train_step(batch)\n",
    "            progbar.update(idx+1)\n",
    "        \n",
    "        # Save checkpoints\n",
    "        if epoch % 10 == 0: \n",
    "            checkpoint.save(file_prefix=checkpoint_prefix)"
   ]
  },
  {
   "cell_type": "markdown",
   "metadata": {
    "id": "9cHW0SCO9sAd"
   },
   "source": [
    "## 5.5 Train the model"
   ]
  },
  {
   "cell_type": "code",
   "execution_count": 72,
   "metadata": {
    "id": "I8I2FU909sAd"
   },
   "outputs": [],
   "source": [
    "EPOCHS = 50"
   ]
  },
  {
   "cell_type": "code",
   "execution_count": 73,
   "metadata": {
    "id": "VTHUubEE9sAd",
    "outputId": "9325a899-8250-4b9d-b2ab-828079adebba",
    "scrolled": true,
    "tags": []
   },
   "outputs": [
    {
     "name": "stdout",
     "output_type": "stream",
     "text": [
      "\n",
      " Epoch 1/50\n",
      "Tensor(\"binary_crossentropy/weighted_loss/value:0\", shape=(), dtype=float32)\n",
      "Tensor(\"binary_crossentropy/weighted_loss/value:0\", shape=(), dtype=float32)\n",
      "61/62 [============================>.] - ETA: 0sTensor(\"binary_crossentropy/weighted_loss/value:0\", shape=(), dtype=float32)\n",
      "62/62 [==============================] - 17s 123ms/step\n",
      "\n",
      " Epoch 2/50\n",
      "62/62 [==============================] - 7s 116ms/step\n",
      "\n",
      " Epoch 3/50\n",
      "62/62 [==============================] - 7s 115ms/step\n",
      "\n",
      " Epoch 4/50\n",
      "62/62 [==============================] - 7s 116ms/step\n",
      "\n",
      " Epoch 5/50\n",
      "62/62 [==============================] - 7s 115ms/step\n",
      "\n",
      " Epoch 6/50\n",
      "62/62 [==============================] - 7s 115ms/step\n",
      "\n",
      " Epoch 7/50\n",
      "62/62 [==============================] - 7s 116ms/step\n",
      "\n",
      " Epoch 8/50\n",
      "62/62 [==============================] - 7s 118ms/step\n",
      "\n",
      " Epoch 9/50\n",
      "62/62 [==============================] - 7s 116ms/step\n",
      "\n",
      " Epoch 10/50\n",
      "62/62 [==============================] - 7s 115ms/step\n",
      "\n",
      " Epoch 11/50\n",
      "62/62 [==============================] - 7s 118ms/step\n",
      "\n",
      " Epoch 12/50\n",
      "62/62 [==============================] - 7s 114ms/step\n",
      "\n",
      " Epoch 13/50\n",
      "62/62 [==============================] - 7s 114ms/step\n",
      "\n",
      " Epoch 14/50\n",
      "62/62 [==============================] - 7s 116ms/step\n",
      "\n",
      " Epoch 15/50\n",
      "62/62 [==============================] - 7s 117ms/step\n",
      "\n",
      " Epoch 16/50\n",
      "62/62 [==============================] - 7s 117ms/step\n",
      "\n",
      " Epoch 17/50\n",
      "62/62 [==============================] - 7s 117ms/step\n",
      "\n",
      " Epoch 18/50\n",
      "62/62 [==============================] - 7s 116ms/step\n",
      "\n",
      " Epoch 19/50\n",
      "62/62 [==============================] - 7s 118ms/step\n",
      "\n",
      " Epoch 20/50\n",
      "62/62 [==============================] - 7s 116ms/step\n",
      "\n",
      " Epoch 21/50\n",
      "62/62 [==============================] - 7s 121ms/step\n",
      "\n",
      " Epoch 22/50\n",
      "62/62 [==============================] - 7s 114ms/step\n",
      "\n",
      " Epoch 23/50\n",
      "62/62 [==============================] - 7s 112ms/step\n",
      "\n",
      " Epoch 24/50\n",
      "62/62 [==============================] - 7s 112ms/step\n",
      "\n",
      " Epoch 25/50\n",
      "62/62 [==============================] - 7s 113ms/step\n",
      "\n",
      " Epoch 26/50\n",
      "62/62 [==============================] - 7s 113ms/step\n",
      "\n",
      " Epoch 27/50\n",
      "62/62 [==============================] - 7s 114ms/step\n",
      "\n",
      " Epoch 28/50\n",
      "62/62 [==============================] - 7s 115ms/step\n",
      "\n",
      " Epoch 29/50\n",
      "62/62 [==============================] - 7s 114ms/step\n",
      "\n",
      " Epoch 30/50\n",
      "62/62 [==============================] - 7s 115ms/step\n",
      "\n",
      " Epoch 31/50\n",
      "62/62 [==============================] - 7s 115ms/step\n",
      "\n",
      " Epoch 32/50\n",
      "62/62 [==============================] - 7s 110ms/step\n",
      "\n",
      " Epoch 33/50\n",
      "62/62 [==============================] - 7s 108ms/step\n",
      "\n",
      " Epoch 34/50\n",
      "62/62 [==============================] - 7s 109ms/step\n",
      "\n",
      " Epoch 35/50\n",
      "62/62 [==============================] - 7s 111ms/step\n",
      "\n",
      " Epoch 36/50\n",
      "62/62 [==============================] - 7s 111ms/step\n",
      "\n",
      " Epoch 37/50\n",
      "62/62 [==============================] - 7s 111ms/step\n",
      "\n",
      " Epoch 38/50\n",
      "62/62 [==============================] - 7s 111ms/step\n",
      "\n",
      " Epoch 39/50\n",
      "62/62 [==============================] - 7s 111ms/step\n",
      "\n",
      " Epoch 40/50\n",
      "62/62 [==============================] - 7s 111ms/step\n",
      "\n",
      " Epoch 41/50\n",
      "62/62 [==============================] - 7s 112ms/step\n",
      "\n",
      " Epoch 42/50\n",
      "62/62 [==============================] - 7s 109ms/step\n",
      "\n",
      " Epoch 43/50\n",
      "62/62 [==============================] - 7s 110ms/step\n",
      "\n",
      " Epoch 44/50\n",
      "62/62 [==============================] - 7s 111ms/step\n",
      "\n",
      " Epoch 45/50\n",
      "62/62 [==============================] - 7s 111ms/step\n",
      "\n",
      " Epoch 46/50\n",
      "62/62 [==============================] - 7s 111ms/step\n",
      "\n",
      " Epoch 47/50\n",
      "62/62 [==============================] - 7s 111ms/step\n",
      "\n",
      " Epoch 48/50\n",
      "62/62 [==============================] - 7s 112ms/step\n",
      "\n",
      " Epoch 49/50\n",
      "62/62 [==============================] - 7s 111ms/step\n",
      "\n",
      " Epoch 50/50\n",
      "62/62 [==============================] - 7s 112ms/step\n"
     ]
    }
   ],
   "source": [
    "train(train_data, EPOCHS)"
   ]
  },
  {
   "cell_type": "markdown",
   "metadata": {
    "id": "mY_trxPh9sAd",
    "tags": []
   },
   "source": [
    "# 6. Evaluate Model"
   ]
  },
  {
   "cell_type": "markdown",
   "metadata": {
    "id": "ZBIPgpnF9sAd"
   },
   "source": [
    "## 6.1 Import Metrics"
   ]
  },
  {
   "cell_type": "code",
   "execution_count": 74,
   "metadata": {
    "id": "QTkE37-C9sAd"
   },
   "outputs": [],
   "source": [
    "# Import metric calculations\n",
    "from tensorflow.keras.metrics import Precision, Recall"
   ]
  },
  {
   "cell_type": "markdown",
   "metadata": {
    "id": "S-iKHDhu9sAd"
   },
   "source": [
    "## 6.2 Make Predictions"
   ]
  },
  {
   "cell_type": "code",
   "execution_count": 75,
   "metadata": {
    "id": "31LqsDO-9sAd"
   },
   "outputs": [],
   "source": [
    "# Get a batch of test data\n",
    "test_input, test_val, y_true = test_data.as_numpy_iterator().next()"
   ]
  },
  {
   "cell_type": "code",
   "execution_count": 76,
   "metadata": {},
   "outputs": [
    {
     "data": {
      "text/plain": [
       "array([[7.9816027e-06],\n",
       "       [5.2600957e-10],\n",
       "       [2.6482749e-13],\n",
       "       [1.0000000e+00],\n",
       "       [6.8348333e-10],\n",
       "       [9.9999940e-01],\n",
       "       [1.0000000e+00],\n",
       "       [9.9754876e-01],\n",
       "       [4.7647259e-06],\n",
       "       [3.1143483e-09],\n",
       "       [6.4460826e-10],\n",
       "       [1.0000000e+00],\n",
       "       [9.9563462e-01],\n",
       "       [5.2635656e-11],\n",
       "       [1.0000000e+00],\n",
       "       [4.8490423e-11]], dtype=float32)"
      ]
     },
     "execution_count": 76,
     "metadata": {},
     "output_type": "execute_result"
    }
   ],
   "source": [
    "y_hat= siamese_model.predict([test_input, test_val])\n",
    "y_hat"
   ]
  },
  {
   "cell_type": "code",
   "execution_count": 77,
   "metadata": {
    "id": "KjiOIz4-9sAd",
    "outputId": "88b2c464-b835-4dc4-ed74-a7dbf655a515",
    "tags": []
   },
   "outputs": [
    {
     "data": {
      "text/plain": [
       "[0, 0, 0, 1, 0, 1, 1, 1, 0, 0, 0, 1, 1, 0, 1, 0]"
      ]
     },
     "execution_count": 77,
     "metadata": {},
     "output_type": "execute_result"
    }
   ],
   "source": [
    "# Post processing the results \n",
    "[1 if prediction > 0.5 else 0 for prediction in y_hat]"
   ]
  },
  {
   "cell_type": "code",
   "execution_count": 78,
   "metadata": {
    "id": "g8_3d0y89sAd",
    "outputId": "a33a5356-c185-4376-823b-b82c2c0df970",
    "tags": []
   },
   "outputs": [
    {
     "data": {
      "text/plain": [
       "array([0., 0., 0., 1., 0., 1., 1., 1., 0., 0., 0., 1., 1., 0., 1., 0.],\n",
       "      dtype=float32)"
      ]
     },
     "execution_count": 78,
     "metadata": {},
     "output_type": "execute_result"
    }
   ],
   "source": [
    "y_true"
   ]
  },
  {
   "cell_type": "markdown",
   "metadata": {
    "id": "jTUgb5yD9sAe"
   },
   "source": [
    "## 6.3 Calculate Metrics"
   ]
  },
  {
   "cell_type": "code",
   "execution_count": 79,
   "metadata": {
    "id": "uKA87S259sAe",
    "outputId": "d90f57ca-de49-41c8-c83f-c28dea98b9df"
   },
   "outputs": [
    {
     "data": {
      "text/plain": [
       "1.0"
      ]
     },
     "execution_count": 79,
     "metadata": {},
     "output_type": "execute_result"
    }
   ],
   "source": [
    "# Creating a metric object \n",
    "m = Recall()\n",
    "\n",
    "# Calculating the recall value \n",
    "m.update_state(y_true, y_hat)\n",
    "\n",
    "# Return Recall Result\n",
    "m.result().numpy()"
   ]
  },
  {
   "cell_type": "code",
   "execution_count": 80,
   "metadata": {
    "id": "x6GjlN-P9sAe",
    "outputId": "7feb1a88-68b2-4f30-a69e-b7ddc04cce1a"
   },
   "outputs": [
    {
     "data": {
      "text/plain": [
       "1.0"
      ]
     },
     "execution_count": 80,
     "metadata": {},
     "output_type": "execute_result"
    }
   ],
   "source": [
    "# Creating a metric object \n",
    "m = Precision()\n",
    "\n",
    "# Calculating the recall value \n",
    "m.update_state(y_true, y_hat)\n",
    "\n",
    "# Return Recall Result\n",
    "m.result().numpy()"
   ]
  },
  {
   "cell_type": "code",
   "execution_count": null,
   "metadata": {
    "id": "2c2fVK1e9sAe",
    "outputId": "e1c985ce-cee5-4fdb-d644-e625494f51c8"
   },
   "outputs": [],
   "source": [
    "# r = Recall()\n",
    "# p = Precision()\n",
    "\n",
    "# for test_input, test_val, y_true in test_data.as_numpy_iterator():\n",
    "#     yhat = siamese_model.predict([test_input, test_val])\n",
    "#     r.update_state(y_true, yhat)\n",
    "#     p.update_state(y_true,yhat) \n",
    "\n",
    "# print(r.result().numpy(), p.result().numpy())"
   ]
  },
  {
   "cell_type": "markdown",
   "metadata": {
    "id": "w3BrS6f49sAe"
   },
   "source": [
    "## 6.4 Viz Results"
   ]
  },
  {
   "cell_type": "code",
   "execution_count": 82,
   "metadata": {
    "id": "dX1mvroy9sAe",
    "outputId": "838f8349-5239-42f4-bfde-4f65a1d1e54b"
   },
   "outputs": [
    {
     "data": {
      "image/png": "[encoded data removed]",
      "text/plain": [
       "<Figure size 1000x800 with 2 Axes>"
      ]
     },
     "metadata": {},
     "output_type": "display_data"
    }
   ],
   "source": [
    "# Set plot size \n",
    "plt.figure(figsize=(10,8))\n",
    "\n",
    "# Set first subplot\n",
    "plt.subplot(1,2,1)\n",
    "plt.imshow(test_input[5])\n",
    "\n",
    "# Set second subplot\n",
    "plt.subplot(1,2,2)\n",
    "plt.imshow(test_val[5])\n",
    "\n",
    "# Renders cleanly\n",
    "plt.show()"
   ]
  },
  {
   "cell_type": "markdown",
   "metadata": {
    "id": "sVeeUI2S9sAe"
   },
   "source": [
    "# 7. Save Model"
   ]
  },
  {
   "cell_type": "code",
   "execution_count": 83,
   "metadata": {
    "id": "I0eUhgVO9sAe"
   },
   "outputs": [
    {
     "name": "stdout",
     "output_type": "stream",
     "text": [
      "WARNING:tensorflow:Compiled the loaded model, but the compiled metrics have yet to be built. `model.compile_metrics` will be empty until you train or evaluate the model.\n"
     ]
    }
   ],
   "source": [
    "# Save weights \n",
    "siamese_model.save('C:/Users/piai/Desktop/faceid/app/siamesemodelv2.h5')"
   ]
  },
  {
   "cell_type": "code",
   "execution_count": 84,
   "metadata": {
    "id": "yeL1ljJv9sAe"
   },
   "outputs": [
    {
     "data": {
      "text/plain": [
       "__main__.L1Dist"
      ]
     },
     "execution_count": 84,
     "metadata": {},
     "output_type": "execute_result"
    }
   ],
   "source": [
    "L1Dist"
   ]
  },
  {
   "cell_type": "code",
   "execution_count": 85,
   "metadata": {
    "id": "nSiLb5Rn9sAe",
    "outputId": "dec045f4-8785-483f-ccf3-0f7d0b704b11"
   },
   "outputs": [
    {
     "name": "stdout",
     "output_type": "stream",
     "text": [
      "WARNING:tensorflow:No training configuration found in the save file, so the model was *not* compiled. Compile it manually.\n"
     ]
    }
   ],
   "source": [
    "# Reload model \n",
    "import os\n",
    "model_path = os.path.join('C:/Users/piai/Desktop/faceid/app', 'siamesemodelv2.h5')\n",
    "siamese_model = tf.keras.models.load_model(model_path, custom_objects={'L1Dist': L1Dist, 'BinaryCrossentropy': tf.losses.BinaryCrossentropy})"
   ]
  },
  {
   "cell_type": "code",
   "execution_count": 86,
   "metadata": {
    "id": "dRF4XJaR9sAe",
    "outputId": "e3f26253-c4b9-4024-f88c-f02b7d9ecf71"
   },
   "outputs": [
    {
     "data": {
      "text/plain": [
       "array([[7.9816027e-06],\n",
       "       [5.2600957e-10],\n",
       "       [2.6482749e-13],\n",
       "       [1.0000000e+00],\n",
       "       [6.8348333e-10],\n",
       "       [9.9999940e-01],\n",
       "       [1.0000000e+00],\n",
       "       [9.9754876e-01],\n",
       "       [4.7647259e-06],\n",
       "       [3.1143483e-09],\n",
       "       [6.4460826e-10],\n",
       "       [1.0000000e+00],\n",
       "       [9.9563462e-01],\n",
       "       [5.2635656e-11],\n",
       "       [1.0000000e+00],\n",
       "       [4.8490423e-11]], dtype=float32)"
      ]
     },
     "execution_count": 86,
     "metadata": {},
     "output_type": "execute_result"
    }
   ],
   "source": [
    "# Make predictions with reloaded model\n",
    "siamese_model.predict([test_input, test_val])"
   ]
  },
  {
   "cell_type": "code",
   "execution_count": 87,
   "metadata": {
    "id": "ujKOwhUX9sAf",
    "outputId": "8f7f4e1f-6c3b-4848-f20f-2bf7e925c680"
   },
   "outputs": [
    {
     "name": "stdout",
     "output_type": "stream",
     "text": [
      "Model: \"SiameseNetwork\"\n",
      "__________________________________________________________________________________________________\n",
      " Layer (type)                   Output Shape         Param #     Connected to                     \n",
      "==================================================================================================\n",
      " input_img (InputLayer)         [(None, 100, 100, 3  0           []                               \n",
      "                                )]                                                                \n",
      "                                                                                                  \n",
      " validation_img (InputLayer)    [(None, 100, 100, 3  0           []                               \n",
      "                                )]                                                                \n",
      "                                                                                                  \n",
      " embedding (Functional)         (None, 4096)         38960448    ['input_img[0][0]',              \n",
      "                                                                  'validation_img[0][0]']         \n",
      "                                                                                                  \n",
      " l1_dist_3 (L1Dist)             (None, 4096)         0           ['embedding[0][0]',              \n",
      "                                                                  'embedding[1][0]']              \n",
      "                                                                                                  \n",
      " dense_3 (Dense)                (None, 1)            4097        ['l1_dist_3[0][0]']              \n",
      "                                                                                                  \n",
      "==================================================================================================\n",
      "Total params: 38,964,545\n",
      "Trainable params: 38,964,545\n",
      "Non-trainable params: 0\n",
      "__________________________________________________________________________________________________\n"
     ]
    }
   ],
   "source": [
    "# View model summary\n",
    "siamese_model.summary()"
   ]
  },
  {
   "cell_type": "markdown",
   "metadata": {
    "id": "jh2jlwiT9sAf"
   },
   "source": [
    "# 8. Real Time Test"
   ]
  },
  {
   "cell_type": "markdown",
   "metadata": {
    "id": "Kx0h1lJK9sAf"
   },
   "source": [
    "## 8.1 Verification Function"
   ]
  },
  {
   "cell_type": "code",
   "execution_count": 88,
   "metadata": {
    "id": "JTOtu-Kd9sAf"
   },
   "outputs": [],
   "source": [
    "VERIFICATION_PATH = os.path.join('app','application_data', 'verification_images')\n",
    "INPUT_PATH=os.path.join('app','application_data', 'input_image')\n",
    "\n",
    "os.makedirs(VERIFICATION_PATH)\n",
    "os.makedirs(INPUT_PATH)"
   ]
  },
  {
   "cell_type": "code",
   "execution_count": 89,
   "metadata": {},
   "outputs": [
    {
     "name": "stdout",
     "output_type": "stream",
     "text": [
      "app\\application_data\\verification_images\n",
      "data\\positive\n"
     ]
    }
   ],
   "source": [
    "print(VERIFICATION_PATH)\n",
    "print(POS_PATH)"
   ]
  },
  {
   "cell_type": "code",
   "execution_count": 90,
   "metadata": {},
   "outputs": [],
   "source": [
    "# pick and move random 50 images from positive to verification_images folders\n",
    "import shutil\n",
    "\n",
    "NUM_IMAGES = 100 \n",
    "\n",
    "# Get a list of all image files in the POS_PATH directory\n",
    "image_files = [file for file in os.listdir(POS_PATH) if file.endswith('.jpg') or file.endswith('.png')]\n",
    "\n",
    "# Select 50 random images from the list\n",
    "random_images = random.sample(image_files, NUM_IMAGES)\n",
    "\n",
    "# Move the selected images to the VERIFICATION_PATH directory\n",
    "for image in random_images:\n",
    "    source = os.path.join(POS_PATH, image)\n",
    "    destination = os.path.join(VERIFICATION_PATH, image)\n",
    "    shutil.copy(source, destination)"
   ]
  },
  {
   "cell_type": "code",
   "execution_count": 91,
   "metadata": {},
   "outputs": [
    {
     "data": {
      "text/plain": [
       "['004671c2-13a4-11ee-98bb-6c2b59da29e4.jpg',\n",
       " '01c4d1bc-13a5-11ee-9a6c-6c2b59da29e4.jpg',\n",
       " '01df5105-13a5-11ee-8ae7-6c2b59da29e4.jpg',\n",
       " '0a2baf97-13a4-11ee-aeac-6c2b59da29e4.jpg',\n",
       " '0ec8e8d1-13a4-11ee-b526-6c2b59da29e4.jpg',\n",
       " '1035904a-13a3-11ee-add7-6c2b59da29e4.jpg',\n",
       " '1153056b-13a3-11ee-b184-6c2b59da29e4.jpg',\n",
       " '11779897-13a3-11ee-94d8-6c2b59da29e4.jpg',\n",
       " '12a28390-13a4-11ee-88e6-6c2b59da29e4.jpg',\n",
       " '12da363e-13a4-11ee-8b63-6c2b59da29e4.jpg',\n",
       " '155186ad-13b0-11ee-a405-6c2b59da29e4.jpg',\n",
       " '183791be-13a3-11ee-943a-6c2b59da29e4.jpg',\n",
       " '1a05dc5c-13a4-11ee-a87d-6c2b59da29e4.jpg',\n",
       " '20410e87-13b0-11ee-9ecd-6c2b59da29e4.jpg',\n",
       " '2080398c-13a3-11ee-b845-6c2b59da29e4.jpg',\n",
       " '21525baf-13b0-11ee-9d73-6c2b59da29e4.jpg',\n",
       " '21788305-13a5-11ee-ba4a-6c2b59da29e4.jpg',\n",
       " '230530e4-13a3-11ee-a605-6c2b59da29e4.jpg',\n",
       " '2311313c-13a3-11ee-b179-6c2b59da29e4.jpg',\n",
       " '244256a4-13b0-11ee-b39e-6c2b59da29e4.jpg',\n",
       " '25eae01b-13a4-11ee-8545-6c2b59da29e4.jpg',\n",
       " '26729d4c-13b0-11ee-ba02-6c2b59da29e4.jpg',\n",
       " '2718356d-13b0-11ee-ace9-6c2b59da29e4.jpg',\n",
       " '2a08e703-13a4-11ee-8f1c-6c2b59da29e4.jpg',\n",
       " '318848a6-13a5-11ee-bb68-6c2b59da29e4.jpg',\n",
       " '3c4f8306-13a5-11ee-af8d-6c2b59da29e4.jpg',\n",
       " '3df4a757-13a5-11ee-92a0-6c2b59da29e4.jpg',\n",
       " '3fd8c3b2-13a5-11ee-a278-6c2b59da29e4.jpg',\n",
       " '4268a455-13a4-11ee-b8e8-6c2b59da29e4.jpg',\n",
       " '439afb10-13a5-11ee-a18f-6c2b59da29e4.jpg',\n",
       " '44fd397f-13a4-11ee-8eb2-6c2b59da29e4.jpg',\n",
       " '450dc092-13a3-11ee-abb7-6c2b59da29e4.jpg',\n",
       " '451bfabb-13a3-11ee-8db1-6c2b59da29e4.jpg',\n",
       " '481cd519-13a3-11ee-ad16-6c2b59da29e4.jpg',\n",
       " '4d07e8dc-13a5-11ee-b6be-6c2b59da29e4.jpg',\n",
       " '4d96476d-13a5-11ee-9673-6c2b59da29e4.jpg',\n",
       " '4f0500fa-13a3-11ee-a7ba-6c2b59da29e4.jpg',\n",
       " '50b9322f-13a3-11ee-86a1-6c2b59da29e4.jpg',\n",
       " '593baf10-13a4-11ee-86c5-6c2b59da29e4.jpg',\n",
       " '5a7ee31b-13a3-11ee-bea9-6c2b59da29e4.jpg',\n",
       " '689e7f8f-13a3-11ee-8070-6c2b59da29e4.jpg',\n",
       " '6931e699-13a3-11ee-be69-6c2b59da29e4.jpg',\n",
       " '69df12d7-13a4-11ee-9c55-6c2b59da29e4.jpg',\n",
       " '6a1bd111-13a4-11ee-92d6-6c2b59da29e4.jpg',\n",
       " '6e863853-13a3-11ee-b293-6c2b59da29e4.jpg',\n",
       " '7821199a-13a3-11ee-8d16-6c2b59da29e4.jpg',\n",
       " '84c07c4a-13a4-11ee-a4a1-6c2b59da29e4.jpg',\n",
       " '90ac2019-13a3-11ee-a93c-6c2b59da29e4.jpg',\n",
       " '914f2780-13a3-11ee-bdda-6c2b59da29e4.jpg',\n",
       " '91eba33c-13a3-11ee-868b-6c2b59da29e4.jpg',\n",
       " '94653b2e-13a3-11ee-8e50-6c2b59da29e4.jpg',\n",
       " '971f88a2-13a3-11ee-9a23-6c2b59da29e4.jpg',\n",
       " 'b3edddb7-13a3-11ee-ae9a-6c2b59da29e4.jpg',\n",
       " 'cd1d9366-13af-11ee-bfb9-6c2b59da29e4.jpg',\n",
       " 'cdfe7e30-13af-11ee-b9b5-6c2b59da29e4.jpg',\n",
       " 'ced808fc-13af-11ee-85c8-6c2b59da29e4.jpg',\n",
       " 'cf63ccba-13af-11ee-833a-6c2b59da29e4.jpg',\n",
       " 'cf82ca89-13af-11ee-8e0c-6c2b59da29e4.jpg',\n",
       " 'cfae1687-13af-11ee-aa73-6c2b59da29e4.jpg',\n",
       " 'd013b8ab-13af-11ee-9945-6c2b59da29e4.jpg',\n",
       " 'd0c32ffe-13af-11ee-aa64-6c2b59da29e4.jpg',\n",
       " 'd0eca934-13af-11ee-a530-6c2b59da29e4.jpg',\n",
       " 'd11bce32-13a3-11ee-9030-6c2b59da29e4.jpg',\n",
       " 'd1563e89-13af-11ee-8346-6c2b59da29e4.jpg',\n",
       " 'd1648649-13af-11ee-ba38-6c2b59da29e4.jpg',\n",
       " 'd1705fd5-13af-11ee-8acf-6c2b59da29e4.jpg',\n",
       " 'd20ab941-13af-11ee-8e30-6c2b59da29e4.jpg',\n",
       " 'd2eb9b67-13af-11ee-bfee-6c2b59da29e4.jpg',\n",
       " 'd315fe10-13af-11ee-8e67-6c2b59da29e4.jpg',\n",
       " 'd37dc0b3-13af-11ee-8c41-6c2b59da29e4.jpg',\n",
       " 'd3a95a73-13af-11ee-8683-6c2b59da29e4.jpg',\n",
       " 'd4138b57-13af-11ee-89d8-6c2b59da29e4.jpg',\n",
       " 'd44f18b9-13af-11ee-a47c-6c2b59da29e4.jpg',\n",
       " 'd4a9a3c2-13af-11ee-b687-6c2b59da29e4.jpg',\n",
       " 'd58073ca-13af-11ee-8d3d-6c2b59da29e4.jpg',\n",
       " 'd6697ec9-13af-11ee-87fd-6c2b59da29e4.jpg',\n",
       " 'd67a8293-13af-11ee-aee9-6c2b59da29e4.jpg',\n",
       " 'd82ccfd9-13af-11ee-a65d-6c2b59da29e4.jpg',\n",
       " 'd921668a-13af-11ee-adbd-6c2b59da29e4.jpg',\n",
       " 'd92e296b-13af-11ee-9385-6c2b59da29e4.jpg',\n",
       " 'd985d18e-13af-11ee-a802-6c2b59da29e4.jpg',\n",
       " 'da95df38-13af-11ee-9ca2-6c2b59da29e4.jpg',\n",
       " 'dad33f49-13af-11ee-8a45-6c2b59da29e4.jpg',\n",
       " 'dae04fee-13af-11ee-a69b-6c2b59da29e4.jpg',\n",
       " 'e026d77f-13a3-11ee-b90b-6c2b59da29e4.jpg',\n",
       " 'e565ce6f-13af-11ee-9f2c-6c2b59da29e4.jpg',\n",
       " 'eb202807-13a3-11ee-ab28-6c2b59da29e4.jpg',\n",
       " 'ec7bb678-13af-11ee-88f8-6c2b59da29e4.jpg',\n",
       " 'eff93667-13a4-11ee-81ef-6c2b59da29e4.jpg',\n",
       " 'f01cab04-13a4-11ee-a66c-6c2b59da29e4.jpg',\n",
       " 'f1ca51d8-13af-11ee-85a2-6c2b59da29e4.jpg',\n",
       " 'f403cbcf-13a3-11ee-92c4-6c2b59da29e4.jpg',\n",
       " 'f50e05c9-13af-11ee-bd00-6c2b59da29e4.jpg',\n",
       " 'f51943bd-13af-11ee-a8a5-6c2b59da29e4.jpg',\n",
       " 'f552e2e5-13a4-11ee-abbe-6c2b59da29e4.jpg',\n",
       " 'f565394c-13af-11ee-beb2-6c2b59da29e4.jpg',\n",
       " 'fe0e4542-13a4-11ee-8958-6c2b59da29e4.jpg',\n",
       " 'fead8452-13a4-11ee-b4ec-6c2b59da29e4.jpg',\n",
       " 'feb47a69-13a3-11ee-ad7c-6c2b59da29e4.jpg',\n",
       " 'ffb4194d-13a4-11ee-816c-6c2b59da29e4.jpg']"
      ]
     },
     "execution_count": 91,
     "metadata": {},
     "output_type": "execute_result"
    }
   ],
   "source": [
    "os.listdir(os.path.join('app','application_data', 'verification_images'))"
   ]
  },
  {
   "cell_type": "code",
   "execution_count": 92,
   "metadata": {},
   "outputs": [
    {
     "data": {
      "text/plain": [
       "'application_data\\\\input_image\\\\input_image.jpg'"
      ]
     },
     "execution_count": 92,
     "metadata": {},
     "output_type": "execute_result"
    }
   ],
   "source": [
    "os.path.join('application_data', 'input_image', 'input_image.jpg')"
   ]
  },
  {
   "cell_type": "code",
   "execution_count": 93,
   "metadata": {
    "id": "VlndTq8w9sAf"
   },
   "outputs": [],
   "source": [
    "def verify(model, detection_threshold, verification_threshold):\n",
    "    # Build results array\n",
    "    results = []\n",
    "    for image in os.listdir(os.path.join('app','application_data', 'verification_images')):\n",
    "        input_img = preprocess(os.path.join('app','application_data', 'input_image', 'input_image.jpg'))\n",
    "        validation_img = preprocess(os.path.join('app','application_data', 'verification_images', image))\n",
    "        \n",
    "        # Make Predictions \n",
    "        result = model.predict(list(np.expand_dims([input_img, validation_img], axis=1)))\n",
    "        results.append(result)\n",
    "    \n",
    "    # Detection Threshold: Metric above which a prediciton is considered positive \n",
    "    detection = np.sum(np.array(results) > detection_threshold)\n",
    "    \n",
    "    # Verification Threshold: Proportion of positive predictions / total positive samples \n",
    "    verification = detection / len(os.listdir(os.path.join('app','application_data', 'verification_images'))) \n",
    "    verified = verification > verification_threshold\n",
    "    \n",
    "    return results, verified"
   ]
  },
  {
   "cell_type": "markdown",
   "metadata": {
    "id": "bCjp4cXi9sAf"
   },
   "source": [
    "## 8.2 OpenCV Real Time Verification"
   ]
  },
  {
   "cell_type": "code",
   "execution_count": 94,
   "metadata": {
    "id": "ntVOj0Qb9sAf",
    "scrolled": true
   },
   "outputs": [
    {
     "name": "stdout",
     "output_type": "stream",
     "text": [
      "True\n",
      "False\n",
      "False\n",
      "True\n"
     ]
    }
   ],
   "source": [
    "import cv2\n",
    "import os\n",
    "\n",
    "# Load face detection cascade\n",
    "face_cascade = cv2.CascadeClassifier(cv2.data.haarcascades + 'haarcascade_frontalface_default.xml')\n",
    "\n",
    "# Establish a connection to the webcam\n",
    "cap = cv2.VideoCapture(0)\n",
    "\n",
    "while cap.isOpened(): \n",
    "    ret, frame = cap.read()\n",
    "   \n",
    "    cv2.imshow('Verification', frame)\n",
    "    \n",
    "    # Face detection\n",
    "    gray = cv2.cvtColor(frame, cv2.COLOR_BGR2GRAY)\n",
    "    faces = face_cascade.detectMultiScale(gray, 1.3, 5)\n",
    "    \n",
    "    # Cut down frame to 250x250px\n",
    "    for (x, y, w, h) in faces:\n",
    "        face_roi = frame[y:y+h, x:x+w]\n",
    "        resized_face = cv2.resize(face_roi, (250, 250))\n",
    "        cv2.imshow('Cropped Face', resized_face)\n",
    "        \n",
    "        # Verification trigger\n",
    "        if cv2.waitKey(10) & 0xFF == ord('v'):\n",
    "            # Save cropped face as an input image\n",
    "            cv2.imwrite(os.path.join('app', 'application_data', 'input_image', 'input_image.jpg'), resized_face)\n",
    "            \n",
    "            # Run verification\n",
    "            results, verified = verify(siamese_model, 0.9, 0.8)\n",
    "            print(verified)\n",
    "        \n",
    "    if cv2.waitKey(10) & 0xFF == ord('q'):\n",
    "        break\n",
    "        \n",
    "cap.release()\n",
    "cv2.destroyAllWindows()"
   ]
  },
  {
   "cell_type": "code",
   "execution_count": null,
   "metadata": {},
   "outputs": [],
   "source": [
    "# siamese_model.summary()"
   ]
  },
  {
   "cell_type": "code",
   "execution_count": null,
   "metadata": {
    "id": "sKO61K739sAf",
    "outputId": "8640c355-d24b-4780-ccd4-4767f43c4e99"
   },
   "outputs": [],
   "source": [
    "np.sum(np.squeeze(results) > 0.9)"
   ]
  },
  {
   "cell_type": "code",
   "execution_count": null,
   "metadata": {},
   "outputs": [],
   "source": [
    "91/100"
   ]
  },
  {
   "cell_type": "code",
   "execution_count": null,
   "metadata": {
    "id": "OP8VhCzZ9sAf",
    "outputId": "573d9a6f-05ef-4d84-e234-7d84e5a2ac52"
   },
   "outputs": [],
   "source": [
    "results"
   ]
  },
  {
   "cell_type": "code",
   "execution_count": null,
   "metadata": {},
   "outputs": [],
   "source": []
  }
 ],
 "metadata": {
  "colab": {
   "provenance": []
  },
  "kernelspec": {
   "display_name": "tf",
   "language": "python",
   "name": "tf"
  },
  "language_info": {
   "codemirror_mode": {
    "name": "ipython",
    "version": 3
   },
   "file_extension": ".py",
   "mimetype": "text/x-python",
   "name": "python",
   "nbconvert_exporter": "python",
   "pygments_lexer": "ipython3",
   "version": "3.9.16"
  }
 },
 "nbformat": 4,
 "nbformat_minor": 1
}
